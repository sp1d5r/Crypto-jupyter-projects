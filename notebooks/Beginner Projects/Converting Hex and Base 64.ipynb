{
 "cells": [
  {
   "cell_type": "markdown",
   "metadata": {
    "collapsed": true
   },
   "source": [
    "# Converting Hex into Base 64\n",
    "\n",
    "So, what is Hex?\n",
    "\n",
    "Hex is a base 16 character set It goes from 0-9, A-F. Where A=11, B=11, ..., F=16. This is useful since each hex character is 4 bits (nibble). We write hex characters with an 0x at the start, so 0x0, is 0 in hex. Below is the table of conversions:\n",
    "\n",
    "![Hex to Decimal to Binary conversion table](http://www.matrixlab-examples.com/image-files/hex_to_binary_001.gif)\n",
    "\n",
    "So, what is Base 64?\n",
    "\n",
    "Base 64, is the binary to text encoding system that lets you convert binary into an ASCII format. It takes in binary values and outputs characters between A-Z, a-z, 0-9, +,/, It really shines when converting ASCII text. \n",
    "\n",
    "Converting Hex to Base 64 should be easy, a hex character is 4 bits long, a base 64 character is 7 bits long. Just convert the hex into binary and then read out the values you get. \n",
    "\n",
    "Got it?\n",
    "\n",
    "Okay let's go!"
   ]
  },
  {
   "cell_type": "code",
   "execution_count": 11,
   "metadata": {},
   "outputs": [
    {
     "name": "stdout",
     "output_type": "stream",
     "text": [
      "0b10010010010011101101101001000000110101101101001011011000110110001101001011011100110011100100000011110010110111101110101011100100010000001100010011100100110000101101001011011100010000001101100011010010110101101100101001000000110000100100000011100000110111101101001011100110110111101101110011011110111010101110011001000000110110101110101011100110110100001110010011011110110111101101101\n"
     ]
    }
   ],
   "source": [
    "# Getting a binary representation of something \n",
    "binaryRepresentationOfHex = bin(0x49276d206b696c6c696e6720796f757220627261696e206c696b65206120706f69736f6e6f7573206d757368726f6f6d)\n",
    "print(binaryRepresentationOfHex)"
   ]
  },
  {
   "cell_type": "markdown",
   "metadata": {},
   "source": [
    "So getting the binary representation from a hex value returns a string... Not too useful, in the notes he said don't work with encoded strings, try and work with byte values. Which I haven't been able to figure out properly, so for now instead of getting the digits in the binary value by counting bytes i'll just get it using logs.   "
   ]
  },
  {
   "cell_type": "code",
   "execution_count": 239,
   "metadata": {},
   "outputs": [],
   "source": [
    "import math \n",
    "\n",
    "def get_digits_from_bin(binary_value):\n",
    "    return int (math.log(binary_value) / \n",
    "                math.log(2)) + 1  # divide log of number by log of 2 since that's the same as doing log 2"
   ]
  },
  {
   "cell_type": "markdown",
   "metadata": {},
   "source": [
    "Okay cool, the approach I'm going to have will be as follows:\n",
    "* I will get the number of digits inside the hex value using the log method described above. \n",
    "* Then we'll use a bit mask of 0b11111 since base 64 goes from 0-63 and 7 bits holds all of those values. \n",
    "* This bit mask needs to be shifted from the MSB (most-significant-bit LHS) all the way down the binary representation to the end of the binary value, comparing the value in a array i have stored.\n",
    "* For each of the bit masks i will append the result to a final answer array \n",
    "* This will return a string."
   ]
  },
  {
   "cell_type": "code",
   "execution_count": 248,
   "metadata": {},
   "outputs": [],
   "source": [
    "# Defining denary-to-base-64 mapping\n",
    "toB64 = [chr(ord('A')+x) for x in range(0,26)]\n",
    "toB64.extend([chr(ord('a')+x) for x in range(0,26)])\n",
    "toB64.extend([chr(ord('0')+x)for x in range(0,10)])\n",
    "toB64.extend(['+', '/'])"
   ]
  },
  {
   "cell_type": "code",
   "execution_count": 252,
   "metadata": {},
   "outputs": [],
   "source": [
    "def convertHexToString(hex_value):\n",
    "    answer = []\n",
    "\n",
    "    digits = get_digits_from_bin(hex_value)\n",
    "    \n",
    "    # Check if there would be a leading 0 \n",
    "    if (digits %4 == 0):\n",
    "        shiftValue = digits - 4\n",
    "    else:\n",
    "        shiftValue = digits - 5 \n",
    "        \n",
    "    initialMask = 0x3f << (shiftValue-1)\n",
    "    \n",
    "    while (shiftValue > 0):\n",
    "        answer.append(toB64[(hex_value & initialMask) >> shiftValue])\n",
    "        shiftValue = shiftValue - 6\n",
    "        initialMask = 0x3f << (shiftValue)\n",
    "    answer.append(array[(hex_value & initialMask)])\n",
    "\n",
    "    return (''.join(answer))"
   ]
  },
  {
   "cell_type": "code",
   "execution_count": 253,
   "metadata": {},
   "outputs": [
    {
     "data": {
      "text/plain": [
       "'SSdtIGtpbGxpbmcgeW91ciBicmFpbiBsaWtlIGEgcG9pc29ub3VzIG11c2hyb29t'"
      ]
     },
     "execution_count": 253,
     "metadata": {},
     "output_type": "execute_result"
    }
   ],
   "source": [
    "inputVal = 0x49276d206b696c6c696e6720796f757220627261696e206c696b65206120706f69736f6e6f7573206d757368726f6f6d\n",
    "convertHexToString(inputVal)"
   ]
  },
  {
   "cell_type": "markdown",
   "metadata": {},
   "source": [
    "TADA!!\n",
    "\n",
    "Done, that was a bit more complicated than i was expecting, mostly due to the fact that masking the value given most ASCII characters are padded on the leading bit (there is an extra 0 at the start), means that you have to mask the first 6 bits. To fix this we included an additional if statement at the start. Overall the time complexity for this function is O(n) (given a hex length n/4) since it iterates through the binary version of that hex representation. \n",
    "\n",
    "What did i learn from this task?\n",
    "\n",
    "Operating on bytes and bits is much more efficient than operating on encoded string, when transferring string data over the internet to make sure we don't lose any information during transmition. But I personally see it used on websites all the time, and the reason for this is because its around 33% shorter."
   ]
  }
 ],
 "metadata": {
  "kernelspec": {
   "display_name": "Python 3",
   "language": "python",
   "name": "python3"
  },
  "language_info": {
   "codemirror_mode": {
    "name": "ipython",
    "version": 3
   },
   "file_extension": ".py",
   "mimetype": "text/x-python",
   "name": "python",
   "nbconvert_exporter": "python",
   "pygments_lexer": "ipython3",
   "version": "3.7.6"
  }
 },
 "nbformat": 4,
 "nbformat_minor": 1
}
