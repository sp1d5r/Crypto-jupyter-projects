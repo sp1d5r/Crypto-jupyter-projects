{
 "cells": [
  {
   "cell_type": "markdown",
   "metadata": {},
   "source": [
    "# Fixed Hex XOR Calculator \n",
    "You get two fixed buffers, both strings which are hex values then you convert them into a binary value then use XOR on each of those bits to produce an output value."
   ]
  },
  {
   "cell_type": "code",
   "execution_count": 18,
   "metadata": {},
   "outputs": [],
   "source": [
    "import math \n",
    "\n",
    "def get_digits_from_hex(binary_value):\n",
    "    return int (math.log(binary_value) / \n",
    "                math.log(16)) + 1  # divide log of number by log of 2 since that's the same as doing log 2"
   ]
  },
  {
   "cell_type": "markdown",
   "metadata": {},
   "source": [
    "My approach will be similar to the one I used last time, I'm going to mask each bit. I don't need to do that i could listerally do hex_value_1 xor hex_value_2, but let's do this a bit more interestingly.\n",
    "\n",
    "(by that i mean go bit by bit...)"
   ]
  },
  {
   "cell_type": "code",
   "execution_count": null,
   "metadata": {},
   "outputs": [],
   "source": [
    "def XOR_hex_calculator(hex_value_1, hex_value_2, digits):\n",
    "    mask = 1 << digits\n",
    "    result = 0\n",
    "    while (digits != 0):\n",
    "        mask = 1 << digits\n",
    "        digits -= 1;\n",
    "        result = result + ((mask & hex_value_1) ^ (mask & hex_value_2))\n",
    "    return result"
   ]
  },
  {
   "cell_type": "code",
   "execution_count": 20,
   "metadata": {},
   "outputs": [
    {
     "data": {
      "text/plain": [
       "'0x746865206b696420646f6e277420706c6178'"
      ]
     },
     "execution_count": 20,
     "metadata": {},
     "output_type": "execute_result"
    }
   ],
   "source": [
    "hex(XOR_hex_calculator(0x1c0111001f010100061a024b53535009181c, 0x686974207468652062756c6c277320657965, get_digits_from_hex(0x686974207468652062756c6c277320657965) *4))"
   ]
  },
  {
   "cell_type": "markdown",
   "metadata": {},
   "source": [
    "As you can see this time i used the number of hex digits, this is useful because it'll tell me the number of bytes not the number bits (helps with leading zeros)."
   ]
  }
 ],
 "metadata": {
  "kernelspec": {
   "display_name": "Python 3",
   "language": "python",
   "name": "python3"
  },
  "language_info": {
   "codemirror_mode": {
    "name": "ipython",
    "version": 3
   },
   "file_extension": ".py",
   "mimetype": "text/x-python",
   "name": "python",
   "nbconvert_exporter": "python",
   "pygments_lexer": "ipython3",
   "version": "3.7.6"
  }
 },
 "nbformat": 4,
 "nbformat_minor": 4
}
