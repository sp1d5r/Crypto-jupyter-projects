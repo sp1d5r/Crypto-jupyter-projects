{
 "cells": [
  {
   "cell_type": "markdown",
   "metadata": {},
   "source": [
    "# Implement Repeating-Key XOR\n",
    "Okay, so for this problem, we have an input string, and we want to XOR that with a key. But this time, we are repeating the key to match the characters in the input string. \n",
    "For example:\n",
    "input string - \"Burning 'em, if you ain't quick and nimble\"\n",
    "key - \"ICE\"\n",
    "\n",
    "we'd XOR the following together \n",
    "input string XOR \"ICEICEICEICEICE...ICE\"\n",
    "\n",
    "Make sense? \n",
    "\n",
    "Okay cool."
   ]
  },
  {
   "cell_type": "markdown",
   "metadata": {},
   "source": [
    "The way i am going to do this is to convert the input string into a byte array, then for each byte xor it with the corresponding element in the key. I'll use a modulus operator to grab the corresponding index of the key. So if i have the 5th element in the string, and i have a key of length 3, i will do 5%3 which tells us it's the 3'rd element in the list which is 'I' which makes sense since it's zero indexed. "
   ]
  },
  {
   "cell_type": "code",
   "execution_count": 42,
   "metadata": {},
   "outputs": [],
   "source": [
    "import binascii\n",
    "input_string = \"Burning 'em, if you ain't quick and nimble\"\n",
    "key = \"ICE\"\n",
    "bytearr = bytes(input_string, \"ascii\")\n",
    "result = []\n",
    "\n",
    "\n",
    "for idx, byte in enumerate(bytearr):\n",
    "    result.append(bytes(key[idx%len(key)],\"ascii\")[0] ^ byte)\n"
   ]
  },
  {
   "cell_type": "code",
   "execution_count": 43,
   "metadata": {},
   "outputs": [],
   "source": [
    "answer = ''.join('{:02x}'.format(x) for x in result)"
   ]
  },
  {
   "cell_type": "code",
   "execution_count": 44,
   "metadata": {},
   "outputs": [
    {
     "data": {
      "text/plain": [
       "'0b3637272a2b2e63622c2e69692a23693a2a3c6324202d623d63343c2a26226324272765272a282b2f20'"
      ]
     },
     "execution_count": 44,
     "metadata": {},
     "output_type": "execute_result"
    }
   ],
   "source": [
    "answer"
   ]
  }
 ],
 "metadata": {
  "kernelspec": {
   "display_name": "Python 3",
   "language": "python",
   "name": "python3"
  },
  "language_info": {
   "codemirror_mode": {
    "name": "ipython",
    "version": 3
   },
   "file_extension": ".py",
   "mimetype": "text/x-python",
   "name": "python",
   "nbconvert_exporter": "python",
   "pygments_lexer": "ipython3",
   "version": "3.7.6"
  }
 },
 "nbformat": 4,
 "nbformat_minor": 4
}
